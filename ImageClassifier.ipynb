{
 "cells": [
  {
   "cell_type": "code",
   "execution_count": 2,
   "metadata": {},
   "outputs": [],
   "source": [
    "#import necessary libraries\n",
    "import numpy as np\n",
    "import pandas as pd\n",
    "%matplotlib inline\n",
    "import matplotlib as mpl\n",
    "import matplotlib.pyplot as plt\n",
    "import os"
   ]
  },
  {
   "cell_type": "code",
   "execution_count": 3,
   "metadata": {},
   "outputs": [],
   "source": [
    "#import tensorflow and keras\n",
    "import tensorflow as tf\n",
    "from tensorflow import keras"
   ]
  },
  {
   "cell_type": "code",
   "execution_count": 4,
   "metadata": {},
   "outputs": [],
   "source": [
    "#assign image directory to variable\n",
    "train_dir = r'data\\train'\n",
    "test_dir = r'data\\test'\n",
    "validation_dir = r'data\\validation'"
   ]
  },
  {
   "cell_type": "code",
   "execution_count": 5,
   "metadata": {},
   "outputs": [],
   "source": [
    "#preprocess images\n",
    "#note that the images are not all the same size\n",
    "# and they are colored\n",
    "from tensorflow.keras.preprocessing.image import ImageDataGenerator"
   ]
  },
  {
   "cell_type": "code",
   "execution_count": 6,
   "metadata": {},
   "outputs": [
    {
     "name": "stdout",
     "output_type": "stream",
     "text": [
      "Found 2000 images belonging to 2 classes.\n",
      "Found 1000 images belonging to 2 classes.\n"
     ]
    }
   ],
   "source": [
    "#get the image\n",
    "#rescale the image to be between 0 and 1 hence the 1./255\n",
    "train_datagen = ImageDataGenerator(rescale=1./255)\n",
    "test_datagen = ImageDataGenerator(rescale=1./255)\n",
    "\n",
    "#generate the images\n",
    "train_generator = train_datagen.flow_from_directory(\n",
    "        train_dir,\n",
    "        target_size=(150, 150),\n",
    "        batch_size=20,\n",
    "        class_mode='binary')\n",
    "\n",
    "validation_generator = test_datagen.flow_from_directory(\n",
    "        validation_dir,\n",
    "        target_size=(150, 150),\n",
    "        batch_size=20,\n",
    "        class_mode='binary')"
   ]
  },
  {
   "cell_type": "code",
   "execution_count": 7,
   "metadata": {},
   "outputs": [],
   "source": [
    "#import layers and model from keras\n",
    "from tensorflow.keras import layers\n",
    "from tensorflow.keras import models"
   ]
  },
  {
   "cell_type": "code",
   "execution_count": 8,
   "metadata": {},
   "outputs": [],
   "source": [
    "#build the model: CNN\n",
    "model = models.Sequential()\n",
    "\n",
    "#add layers using the genral practive of doubling con layer filters\n",
    "model.add(layers.Conv2D(32, (3, 3), activation='relu',\n",
    "                        input_shape=(150, 150, 3)))\n",
    "model.add(layers.MaxPooling2D((2, 2)))\n",
    "\n",
    "model.add(layers.Conv2D(64, (3, 3), activation='relu'))\n",
    "model.add(layers.MaxPooling2D((2, 2)))\n",
    "\n",
    "model.add(layers.Conv2D(128, (3, 3), activation='relu'))\n",
    "model.add(layers.MaxPooling2D((2, 2)))\n",
    "\n",
    "model.add(layers.Conv2D(128, (3, 3), activation='relu'))\n",
    "model.add(layers.MaxPooling2D((2, 2)))\n",
    "\n",
    "model.add(layers.Flatten())\n",
    "\n",
    "model.add(layers.Dense(512, activation='relu'))\n",
    "\n",
    "model.add(layers.Dense(1, activation='sigmoid'))"
   ]
  },
  {
   "cell_type": "code",
   "execution_count": 10,
   "metadata": {},
   "outputs": [
    {
     "name": "stdout",
     "output_type": "stream",
     "text": [
      "Model: \"sequential\"\n",
      "_________________________________________________________________\n",
      " Layer (type)                Output Shape              Param #   \n",
      "=================================================================\n",
      " conv2d (Conv2D)             (None, 148, 148, 32)      896       \n",
      "                                                                 \n",
      " max_pooling2d (MaxPooling2D  (None, 74, 74, 32)       0         \n",
      " )                                                               \n",
      "                                                                 \n",
      " conv2d_1 (Conv2D)           (None, 72, 72, 64)        18496     \n",
      "                                                                 \n",
      " max_pooling2d_1 (MaxPooling  (None, 36, 36, 64)       0         \n",
      " 2D)                                                             \n",
      "                                                                 \n",
      " conv2d_2 (Conv2D)           (None, 34, 34, 128)       73856     \n",
      "                                                                 \n",
      " max_pooling2d_2 (MaxPooling  (None, 17, 17, 128)      0         \n",
      " 2D)                                                             \n",
      "                                                                 \n",
      " conv2d_3 (Conv2D)           (None, 15, 15, 128)       147584    \n",
      "                                                                 \n",
      " max_pooling2d_3 (MaxPooling  (None, 7, 7, 128)        0         \n",
      " 2D)                                                             \n",
      "                                                                 \n",
      " flatten (Flatten)           (None, 6272)              0         \n",
      "                                                                 \n",
      " dense (Dense)               (None, 512)               3211776   \n",
      "                                                                 \n",
      " dense_1 (Dense)             (None, 1)                 513       \n",
      "                                                                 \n",
      "=================================================================\n",
      "Total params: 3,453,121\n",
      "Trainable params: 3,453,121\n",
      "Non-trainable params: 0\n",
      "_________________________________________________________________\n"
     ]
    }
   ],
   "source": [
    "#get a summary of the model\n",
    "model.summary()"
   ]
  },
  {
   "cell_type": "code",
   "execution_count": 11,
   "metadata": {},
   "outputs": [],
   "source": [
    "#compile the model\n",
    "model.compile(loss='binary_crossentropy',\n",
    "                optimizer=keras.optimizers.RMSprop(learning_rate=1e-4),\n",
    "                metrics=['acc'])"
   ]
  },
  {
   "cell_type": "code",
   "execution_count": 12,
   "metadata": {},
   "outputs": [
    {
     "name": "stderr",
     "output_type": "stream",
     "text": [
      "C:\\Users\\DELL\\AppData\\Local\\Temp\\ipykernel_9864\\1368726291.py:2: UserWarning: `Model.fit_generator` is deprecated and will be removed in a future version. Please use `Model.fit`, which supports generators.\n",
      "  history = model.fit_generator(\n"
     ]
    },
    {
     "name": "stdout",
     "output_type": "stream",
     "text": [
      "Epoch 1/20\n",
      "100/100 [==============================] - 148s 1s/step - loss: 0.6898 - acc: 0.5295 - val_loss: 0.7273 - val_acc: 0.5000\n",
      "Epoch 2/20\n",
      "100/100 [==============================] - 122s 1s/step - loss: 0.6731 - acc: 0.5700 - val_loss: 0.6560 - val_acc: 0.6140\n",
      "Epoch 3/20\n",
      "100/100 [==============================] - 103s 1s/step - loss: 0.6397 - acc: 0.6335 - val_loss: 0.6294 - val_acc: 0.6430\n",
      "Epoch 4/20\n",
      "100/100 [==============================] - 82s 818ms/step - loss: 0.6041 - acc: 0.6645 - val_loss: 0.6112 - val_acc: 0.6580\n",
      "Epoch 5/20\n",
      "100/100 [==============================] - 98s 977ms/step - loss: 0.5749 - acc: 0.6895 - val_loss: 0.6323 - val_acc: 0.6240\n",
      "Epoch 6/20\n",
      "100/100 [==============================] - 87s 872ms/step - loss: 0.5552 - acc: 0.7075 - val_loss: 0.6745 - val_acc: 0.6390\n",
      "Epoch 7/20\n",
      "100/100 [==============================] - 87s 867ms/step - loss: 0.5284 - acc: 0.7360 - val_loss: 0.5932 - val_acc: 0.6690\n",
      "Epoch 8/20\n",
      "100/100 [==============================] - 83s 830ms/step - loss: 0.5114 - acc: 0.7515 - val_loss: 0.5824 - val_acc: 0.6860\n",
      "Epoch 9/20\n",
      "100/100 [==============================] - 81s 807ms/step - loss: 0.4958 - acc: 0.7510 - val_loss: 0.5775 - val_acc: 0.6950\n",
      "Epoch 10/20\n",
      "100/100 [==============================] - 86s 860ms/step - loss: 0.4746 - acc: 0.7645 - val_loss: 0.5731 - val_acc: 0.6990\n",
      "Epoch 11/20\n",
      "100/100 [==============================] - 92s 918ms/step - loss: 0.4529 - acc: 0.7880 - val_loss: 0.6287 - val_acc: 0.6910\n",
      "Epoch 12/20\n",
      "100/100 [==============================] - 74s 735ms/step - loss: 0.4327 - acc: 0.7980 - val_loss: 0.6136 - val_acc: 0.7060\n",
      "Epoch 13/20\n",
      "100/100 [==============================] - 72s 719ms/step - loss: 0.4119 - acc: 0.8085 - val_loss: 0.5680 - val_acc: 0.7000\n",
      "Epoch 14/20\n",
      "100/100 [==============================] - 72s 717ms/step - loss: 0.3909 - acc: 0.8235 - val_loss: 0.5751 - val_acc: 0.7060\n",
      "Epoch 15/20\n",
      "100/100 [==============================] - 71s 708ms/step - loss: 0.3670 - acc: 0.8400 - val_loss: 0.5958 - val_acc: 0.6930\n",
      "Epoch 16/20\n",
      "100/100 [==============================] - 71s 712ms/step - loss: 0.3500 - acc: 0.8540 - val_loss: 0.5913 - val_acc: 0.7080\n",
      "Epoch 17/20\n",
      "100/100 [==============================] - 100s 1s/step - loss: 0.3316 - acc: 0.8545 - val_loss: 0.6917 - val_acc: 0.7000\n",
      "Epoch 18/20\n",
      "100/100 [==============================] - 119s 1s/step - loss: 0.3047 - acc: 0.8690 - val_loss: 0.5943 - val_acc: 0.7220\n",
      "Epoch 19/20\n",
      "100/100 [==============================] - 103s 1s/step - loss: 0.2897 - acc: 0.8720 - val_loss: 0.6141 - val_acc: 0.7160\n",
      "Epoch 20/20\n",
      "100/100 [==============================] - 100s 995ms/step - loss: 0.2670 - acc: 0.8960 - val_loss: 0.6447 - val_acc: 0.7070\n"
     ]
    }
   ],
   "source": [
    "#fit the model\n",
    "history = model.fit_generator(\n",
    "        train_generator,\n",
    "        steps_per_epoch=100,\n",
    "        epochs=20,\n",
    "        validation_data=validation_generator,\n",
    "        validation_steps=50)"
   ]
  },
  {
   "cell_type": "code",
   "execution_count": 13,
   "metadata": {},
   "outputs": [
    {
     "data": {
      "image/png": "[encoded data removed]",
      "text/plain": [
       "<Figure size 800x500 with 1 Axes>"
      ]
     },
     "metadata": {},
     "output_type": "display_data"
    }
   ],
   "source": [
    "#plot the accuracy values\n",
    "pd.DataFrame(history.history).plot(figsize=(8, 5))\n",
    "plt.grid(True)\n",
    "plt.gca().set_ylim(0, 1)\n",
    "plt.show()"
   ]
  },
  {
   "cell_type": "code",
   "execution_count": null,
   "metadata": {},
   "outputs": [],
   "source": [
    "#space between training and validation shows overfitting exists"
   ]
  },
  {
   "cell_type": "code",
   "execution_count": 14,
   "metadata": {},
   "outputs": [],
   "source": [
    "#save the model\n",
    "model.save('model.h5')"
   ]
  },
  {
   "cell_type": "code",
   "execution_count": 15,
   "metadata": {},
   "outputs": [],
   "source": [
    "#import library to clear session\n",
    "import keras.backend as K\n",
    "\n",
    "#clear session to free up memory\n",
    "K.clear_session()\n",
    "del model"
   ]
  }
 ],
 "metadata": {
  "kernelspec": {
   "display_name": "base",
   "language": "python",
   "name": "python3"
  },
  "language_info": {
   "codemirror_mode": {
    "name": "ipython",
    "version": 3
   },
   "file_extension": ".py",
   "mimetype": "text/x-python",
   "name": "python",
   "nbconvert_exporter": "python",
   "pygments_lexer": "ipython3",
   "version": "3.10.9"
  },
  "orig_nbformat": 4
 },
 "nbformat": 4,
 "nbformat_minor": 2
}
